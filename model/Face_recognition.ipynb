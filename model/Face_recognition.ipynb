{
 "cells": [
  {
   "cell_type": "code",
   "execution_count": 1,
   "id": "a9b087ef",
   "metadata": {},
   "outputs": [],
   "source": [
    "import numpy as np\n",
    "import cv2\n",
    "import matplotlib.pyplot as plt\n",
    "from sklearn.svm import SVC\n",
    "from sklearn.preprocessing import StandardScaler\n",
    "from sklearn.model_selection import train_test_split\n",
    "from sklearn.pipeline import Pipeline\n",
    "from sklearn.metrics import classification_report\n",
    "%matplotlib inline\n"
   ]
  },
  {
   "cell_type": "code",
   "execution_count": 2,
   "id": "a372ce37",
   "metadata": {},
   "outputs": [],
   "source": [
    "face_cascade = cv2.CascadeClassifier(\"./opencv/haarcascade_frontalface_default.xml\")\n",
    "eye_cascade = cv2.CascadeClassifier(\"./opencv/haarcascade_eye.xml\")"
   ]
  },
  {
   "cell_type": "code",
   "execution_count": 3,
   "id": "e1133210",
   "metadata": {},
   "outputs": [],
   "source": [
    "def get_cropped_image_if_2_eyes(image_path):\n",
    "    img = cv2.imread(image_path)\n",
    "    gray = cv2.cvtColor(img, cv2.COLOR_BGR2GRAY)\n",
    "    faces = face_cascade.detectMultiScale(gray, 1.3, 5)\n",
    "    for (x,y,w,h) in faces:\n",
    "        roi_gray = gray[y:y+h, x:x+w]\n",
    "        roi_color = img[y:y+h, x:x+w]\n",
    "        eyes = eye_cascade.detectMultiScale(roi_gray)\n",
    "        if len(eyes) >= 2:\n",
    "            return roi_color"
   ]
  },
  {
   "cell_type": "code",
   "execution_count": 4,
   "id": "7cb84b5c",
   "metadata": {},
   "outputs": [],
   "source": [
    "path_to_data=\"./Datasets/\"\n",
    "path_to_cr_data='./Datasets/cropped/'"
   ]
  },
  {
   "cell_type": "code",
   "execution_count": 5,
   "id": "90f02da9",
   "metadata": {},
   "outputs": [
    {
     "data": {
      "text/plain": [
       "['./Datasets/cropped',\n",
       " './Datasets/Elon Musk',\n",
       " './Datasets/Lionel Messi',\n",
       " './Datasets/Maria Sharpova',\n",
       " './Datasets/Smrithi Madhana',\n",
       " './Datasets/Virat Kohli']"
      ]
     },
     "execution_count": 5,
     "metadata": {},
     "output_type": "execute_result"
    }
   ],
   "source": [
    "import os\n",
    "img_dirs=[]\n",
    "for entry in os.scandir(path_to_data):\n",
    "    if entry.is_dir():\n",
    "        img_dirs.append(entry.path)\n",
    "img_dirs"
   ]
  },
  {
   "cell_type": "code",
   "execution_count": 6,
   "id": "1b91a4f5",
   "metadata": {},
   "outputs": [],
   "source": [
    "import shutil\n",
    "if os.path.exists(path_to_cr_data): #Checking if cropped folder exists\n",
    "    shutil.rmtree(path_to_cr_data) #Clearing the folder for clearing old pics for multiple runs\n",
    "os.mkdir(path_to_cr_data)"
   ]
  },
  {
   "cell_type": "code",
   "execution_count": 7,
   "id": "a1001dc7",
   "metadata": {},
   "outputs": [],
   "source": [
    "cropped_image_dirs = []\n",
    "celebrity_file_names_dict = {}\n",
    "for img_dir in img_dirs:\n",
    "    count=1\n",
    "    celebrity_name = img_dir.split('/')[-1]   \n",
    "    \n",
    "    celebrity_file_names_dict[celebrity_name]=[]\n",
    "    \n",
    "    for entry in os.scandir(img_dir):\n",
    "        roi_color = get_cropped_image_if_2_eyes(entry.path)\n",
    "        if roi_color is not None:\n",
    "            cropped_folder = path_to_cr_data + celebrity_name\n",
    "            if not os.path.exists(cropped_folder):\n",
    "                os.makedirs(cropped_folder)\n",
    "                cropped_image_dirs.append(cropped_folder)\n",
    "            \n",
    "            cropped_file_name=celebrity_name+str(count)+'.png'\n",
    "            cropped_file_path=cropped_folder+'/'+cropped_file_name\n",
    "            \n",
    "            cv2.imwrite(cropped_file_path,roi_color)\n",
    "            celebrity_file_names_dict[celebrity_name].append(cropped_file_path)\n",
    "            count +=1\n",
    "                \n",
    "                \n",
    "    \n",
    "            "
   ]
  },
  {
   "cell_type": "code",
   "execution_count": 8,
   "id": "141528aa",
   "metadata": {},
   "outputs": [
    {
     "data": {
      "text/plain": [
       "{'cropped': [],\n",
       " 'Elon Musk': ['./Datasets/cropped/Elon Musk/Elon Musk1.png',\n",
       "  './Datasets/cropped/Elon Musk/Elon Musk2.png',\n",
       "  './Datasets/cropped/Elon Musk/Elon Musk3.png',\n",
       "  './Datasets/cropped/Elon Musk/Elon Musk4.png',\n",
       "  './Datasets/cropped/Elon Musk/Elon Musk5.png',\n",
       "  './Datasets/cropped/Elon Musk/Elon Musk6.png',\n",
       "  './Datasets/cropped/Elon Musk/Elon Musk7.png',\n",
       "  './Datasets/cropped/Elon Musk/Elon Musk8.png',\n",
       "  './Datasets/cropped/Elon Musk/Elon Musk9.png',\n",
       "  './Datasets/cropped/Elon Musk/Elon Musk10.png',\n",
       "  './Datasets/cropped/Elon Musk/Elon Musk11.png',\n",
       "  './Datasets/cropped/Elon Musk/Elon Musk12.png',\n",
       "  './Datasets/cropped/Elon Musk/Elon Musk13.png',\n",
       "  './Datasets/cropped/Elon Musk/Elon Musk14.png',\n",
       "  './Datasets/cropped/Elon Musk/Elon Musk15.png',\n",
       "  './Datasets/cropped/Elon Musk/Elon Musk16.png',\n",
       "  './Datasets/cropped/Elon Musk/Elon Musk17.png',\n",
       "  './Datasets/cropped/Elon Musk/Elon Musk18.png',\n",
       "  './Datasets/cropped/Elon Musk/Elon Musk19.png',\n",
       "  './Datasets/cropped/Elon Musk/Elon Musk20.png',\n",
       "  './Datasets/cropped/Elon Musk/Elon Musk21.png',\n",
       "  './Datasets/cropped/Elon Musk/Elon Musk22.png',\n",
       "  './Datasets/cropped/Elon Musk/Elon Musk23.png'],\n",
       " 'Lionel Messi': ['./Datasets/cropped/Lionel Messi/Lionel Messi1.png',\n",
       "  './Datasets/cropped/Lionel Messi/Lionel Messi2.png',\n",
       "  './Datasets/cropped/Lionel Messi/Lionel Messi3.png',\n",
       "  './Datasets/cropped/Lionel Messi/Lionel Messi4.png',\n",
       "  './Datasets/cropped/Lionel Messi/Lionel Messi5.png',\n",
       "  './Datasets/cropped/Lionel Messi/Lionel Messi6.png',\n",
       "  './Datasets/cropped/Lionel Messi/Lionel Messi7.png',\n",
       "  './Datasets/cropped/Lionel Messi/Lionel Messi8.png',\n",
       "  './Datasets/cropped/Lionel Messi/Lionel Messi9.png',\n",
       "  './Datasets/cropped/Lionel Messi/Lionel Messi10.png',\n",
       "  './Datasets/cropped/Lionel Messi/Lionel Messi11.png',\n",
       "  './Datasets/cropped/Lionel Messi/Lionel Messi12.png',\n",
       "  './Datasets/cropped/Lionel Messi/Lionel Messi13.png',\n",
       "  './Datasets/cropped/Lionel Messi/Lionel Messi14.png',\n",
       "  './Datasets/cropped/Lionel Messi/Lionel Messi15.png',\n",
       "  './Datasets/cropped/Lionel Messi/Lionel Messi16.png',\n",
       "  './Datasets/cropped/Lionel Messi/Lionel Messi17.png',\n",
       "  './Datasets/cropped/Lionel Messi/Lionel Messi18.png',\n",
       "  './Datasets/cropped/Lionel Messi/Lionel Messi19.png',\n",
       "  './Datasets/cropped/Lionel Messi/Lionel Messi20.png',\n",
       "  './Datasets/cropped/Lionel Messi/Lionel Messi21.png',\n",
       "  './Datasets/cropped/Lionel Messi/Lionel Messi22.png',\n",
       "  './Datasets/cropped/Lionel Messi/Lionel Messi23.png',\n",
       "  './Datasets/cropped/Lionel Messi/Lionel Messi24.png',\n",
       "  './Datasets/cropped/Lionel Messi/Lionel Messi25.png',\n",
       "  './Datasets/cropped/Lionel Messi/Lionel Messi26.png',\n",
       "  './Datasets/cropped/Lionel Messi/Lionel Messi27.png',\n",
       "  './Datasets/cropped/Lionel Messi/Lionel Messi28.png',\n",
       "  './Datasets/cropped/Lionel Messi/Lionel Messi29.png',\n",
       "  './Datasets/cropped/Lionel Messi/Lionel Messi30.png',\n",
       "  './Datasets/cropped/Lionel Messi/Lionel Messi31.png',\n",
       "  './Datasets/cropped/Lionel Messi/Lionel Messi32.png',\n",
       "  './Datasets/cropped/Lionel Messi/Lionel Messi33.png'],\n",
       " 'Maria Sharpova': ['./Datasets/cropped/Maria Sharpova/Maria Sharpova1.png',\n",
       "  './Datasets/cropped/Maria Sharpova/Maria Sharpova2.png',\n",
       "  './Datasets/cropped/Maria Sharpova/Maria Sharpova3.png',\n",
       "  './Datasets/cropped/Maria Sharpova/Maria Sharpova4.png',\n",
       "  './Datasets/cropped/Maria Sharpova/Maria Sharpova5.png',\n",
       "  './Datasets/cropped/Maria Sharpova/Maria Sharpova6.png',\n",
       "  './Datasets/cropped/Maria Sharpova/Maria Sharpova7.png',\n",
       "  './Datasets/cropped/Maria Sharpova/Maria Sharpova8.png',\n",
       "  './Datasets/cropped/Maria Sharpova/Maria Sharpova9.png',\n",
       "  './Datasets/cropped/Maria Sharpova/Maria Sharpova10.png',\n",
       "  './Datasets/cropped/Maria Sharpova/Maria Sharpova11.png',\n",
       "  './Datasets/cropped/Maria Sharpova/Maria Sharpova12.png',\n",
       "  './Datasets/cropped/Maria Sharpova/Maria Sharpova13.png',\n",
       "  './Datasets/cropped/Maria Sharpova/Maria Sharpova14.png',\n",
       "  './Datasets/cropped/Maria Sharpova/Maria Sharpova15.png',\n",
       "  './Datasets/cropped/Maria Sharpova/Maria Sharpova16.png',\n",
       "  './Datasets/cropped/Maria Sharpova/Maria Sharpova17.png',\n",
       "  './Datasets/cropped/Maria Sharpova/Maria Sharpova18.png',\n",
       "  './Datasets/cropped/Maria Sharpova/Maria Sharpova19.png',\n",
       "  './Datasets/cropped/Maria Sharpova/Maria Sharpova20.png',\n",
       "  './Datasets/cropped/Maria Sharpova/Maria Sharpova21.png',\n",
       "  './Datasets/cropped/Maria Sharpova/Maria Sharpova22.png',\n",
       "  './Datasets/cropped/Maria Sharpova/Maria Sharpova23.png',\n",
       "  './Datasets/cropped/Maria Sharpova/Maria Sharpova24.png'],\n",
       " 'Smrithi Madhana': ['./Datasets/cropped/Smrithi Madhana/Smrithi Madhana1.png',\n",
       "  './Datasets/cropped/Smrithi Madhana/Smrithi Madhana2.png',\n",
       "  './Datasets/cropped/Smrithi Madhana/Smrithi Madhana3.png',\n",
       "  './Datasets/cropped/Smrithi Madhana/Smrithi Madhana4.png',\n",
       "  './Datasets/cropped/Smrithi Madhana/Smrithi Madhana5.png',\n",
       "  './Datasets/cropped/Smrithi Madhana/Smrithi Madhana6.png',\n",
       "  './Datasets/cropped/Smrithi Madhana/Smrithi Madhana7.png',\n",
       "  './Datasets/cropped/Smrithi Madhana/Smrithi Madhana8.png',\n",
       "  './Datasets/cropped/Smrithi Madhana/Smrithi Madhana9.png',\n",
       "  './Datasets/cropped/Smrithi Madhana/Smrithi Madhana10.png',\n",
       "  './Datasets/cropped/Smrithi Madhana/Smrithi Madhana11.png',\n",
       "  './Datasets/cropped/Smrithi Madhana/Smrithi Madhana12.png',\n",
       "  './Datasets/cropped/Smrithi Madhana/Smrithi Madhana13.png',\n",
       "  './Datasets/cropped/Smrithi Madhana/Smrithi Madhana14.png',\n",
       "  './Datasets/cropped/Smrithi Madhana/Smrithi Madhana15.png',\n",
       "  './Datasets/cropped/Smrithi Madhana/Smrithi Madhana16.png',\n",
       "  './Datasets/cropped/Smrithi Madhana/Smrithi Madhana17.png',\n",
       "  './Datasets/cropped/Smrithi Madhana/Smrithi Madhana18.png',\n",
       "  './Datasets/cropped/Smrithi Madhana/Smrithi Madhana19.png',\n",
       "  './Datasets/cropped/Smrithi Madhana/Smrithi Madhana20.png',\n",
       "  './Datasets/cropped/Smrithi Madhana/Smrithi Madhana21.png',\n",
       "  './Datasets/cropped/Smrithi Madhana/Smrithi Madhana22.png',\n",
       "  './Datasets/cropped/Smrithi Madhana/Smrithi Madhana23.png',\n",
       "  './Datasets/cropped/Smrithi Madhana/Smrithi Madhana24.png'],\n",
       " 'Virat Kohli': ['./Datasets/cropped/Virat Kohli/Virat Kohli1.png',\n",
       "  './Datasets/cropped/Virat Kohli/Virat Kohli2.png',\n",
       "  './Datasets/cropped/Virat Kohli/Virat Kohli3.png',\n",
       "  './Datasets/cropped/Virat Kohli/Virat Kohli4.png',\n",
       "  './Datasets/cropped/Virat Kohli/Virat Kohli5.png',\n",
       "  './Datasets/cropped/Virat Kohli/Virat Kohli6.png',\n",
       "  './Datasets/cropped/Virat Kohli/Virat Kohli7.png',\n",
       "  './Datasets/cropped/Virat Kohli/Virat Kohli8.png',\n",
       "  './Datasets/cropped/Virat Kohli/Virat Kohli9.png',\n",
       "  './Datasets/cropped/Virat Kohli/Virat Kohli10.png',\n",
       "  './Datasets/cropped/Virat Kohli/Virat Kohli11.png',\n",
       "  './Datasets/cropped/Virat Kohli/Virat Kohli12.png',\n",
       "  './Datasets/cropped/Virat Kohli/Virat Kohli13.png',\n",
       "  './Datasets/cropped/Virat Kohli/Virat Kohli14.png',\n",
       "  './Datasets/cropped/Virat Kohli/Virat Kohli15.png',\n",
       "  './Datasets/cropped/Virat Kohli/Virat Kohli16.png',\n",
       "  './Datasets/cropped/Virat Kohli/Virat Kohli17.png',\n",
       "  './Datasets/cropped/Virat Kohli/Virat Kohli18.png',\n",
       "  './Datasets/cropped/Virat Kohli/Virat Kohli19.png',\n",
       "  './Datasets/cropped/Virat Kohli/Virat Kohli20.png',\n",
       "  './Datasets/cropped/Virat Kohli/Virat Kohli21.png',\n",
       "  './Datasets/cropped/Virat Kohli/Virat Kohli22.png',\n",
       "  './Datasets/cropped/Virat Kohli/Virat Kohli23.png',\n",
       "  './Datasets/cropped/Virat Kohli/Virat Kohli24.png',\n",
       "  './Datasets/cropped/Virat Kohli/Virat Kohli25.png',\n",
       "  './Datasets/cropped/Virat Kohli/Virat Kohli26.png',\n",
       "  './Datasets/cropped/Virat Kohli/Virat Kohli27.png',\n",
       "  './Datasets/cropped/Virat Kohli/Virat Kohli28.png',\n",
       "  './Datasets/cropped/Virat Kohli/Virat Kohli29.png',\n",
       "  './Datasets/cropped/Virat Kohli/Virat Kohli30.png',\n",
       "  './Datasets/cropped/Virat Kohli/Virat Kohli31.png',\n",
       "  './Datasets/cropped/Virat Kohli/Virat Kohli32.png',\n",
       "  './Datasets/cropped/Virat Kohli/Virat Kohli33.png',\n",
       "  './Datasets/cropped/Virat Kohli/Virat Kohli34.png',\n",
       "  './Datasets/cropped/Virat Kohli/Virat Kohli35.png']}"
      ]
     },
     "execution_count": 8,
     "metadata": {},
     "output_type": "execute_result"
    }
   ],
   "source": [
    "celebrity_file_names_dict "
   ]
  },
  {
   "cell_type": "code",
   "execution_count": 9,
   "id": "70af05c1",
   "metadata": {},
   "outputs": [],
   "source": [
    "import pywt \n",
    "\n",
    "def w2d(img,mode='harr',level=1):\n",
    "    imArray=img\n",
    "    #DataType Conversion\n",
    "    #Convert to grayscale\n",
    "    imArray=cv2.cvtColor(imArray,cv2.COLOR_RGB2GRAY)\n",
    "    #convert float\n",
    "    imArray=np.float32(imArray)\n",
    "    imArray/=255;\n",
    "    #compute coefficients\n",
    "    coeff=pywt.wavedec2(imArray,mode,level=level)\n",
    "    #Process Coefficients\n",
    "    coeffs_H=list(coeff)\n",
    "    coeffs_H[0]*=0;\n",
    "    \n",
    "    # reconstruction\n",
    "    imArray_H=pywt.waverec2(coeffs_H, mode);\n",
    "    imArray_H *= 255;\n",
    "    imArray_H =  np.uint8(imArray_H)\n",
    "\n",
    "    return imArray_H"
   ]
  },
  {
   "cell_type": "code",
   "execution_count": 10,
   "id": "a69f115f",
   "metadata": {},
   "outputs": [
    {
     "data": {
      "text/plain": [
       "{'cropped': 0,\n",
       " 'Elon Musk': 1,\n",
       " 'Lionel Messi': 2,\n",
       " 'Maria Sharpova': 3,\n",
       " 'Smrithi Madhana': 4,\n",
       " 'Virat Kohli': 5}"
      ]
     },
     "execution_count": 10,
     "metadata": {},
     "output_type": "execute_result"
    }
   ],
   "source": [
    "class_dict={}\n",
    "count=0\n",
    "for celebrity_name in celebrity_file_names_dict.keys():\n",
    "    class_dict[celebrity_name]=count\n",
    "    count=count+1\n",
    "class_dict"
   ]
  },
  {
   "cell_type": "code",
   "execution_count": 11,
   "id": "47757563",
   "metadata": {},
   "outputs": [],
   "source": [
    "X=[]\n",
    "y=[]\n",
    "for celebrity_name,training_files in celebrity_file_names_dict.items():\n",
    "    for training_image in training_files:\n",
    "        img=cv2.imread(training_image)\n",
    "        if img is None:\n",
    "            continue \n",
    "        scalled_raw_img=cv2.resize(img,(32,32))        \n",
    "        img_har=w2d(img,'db1',5)\n",
    "        scalled_img_har=cv2.resize(img_har,(32,32))\n",
    "        combined_img = np.vstack((scalled_raw_img.reshape(32*32*3,1),scalled_img_har.reshape(32*32,1)))\n",
    "        X.append(combined_img)\n",
    "        y.append(class_dict[celebrity_name])     "
   ]
  },
  {
   "cell_type": "code",
   "execution_count": 12,
   "id": "97c46642",
   "metadata": {},
   "outputs": [
    {
     "data": {
      "text/plain": [
       "4096"
      ]
     },
     "execution_count": 12,
     "metadata": {},
     "output_type": "execute_result"
    }
   ],
   "source": [
    "len(X[0])"
   ]
  },
  {
   "cell_type": "code",
   "execution_count": 13,
   "id": "3294c19d",
   "metadata": {},
   "outputs": [
    {
     "data": {
      "text/plain": [
       "array([[ 94],\n",
       "       [ 63],\n",
       "       [ 41],\n",
       "       ...,\n",
       "       [ 85],\n",
       "       [207],\n",
       "       [200]], dtype=uint8)"
      ]
     },
     "execution_count": 13,
     "metadata": {},
     "output_type": "execute_result"
    }
   ],
   "source": [
    "X[0]"
   ]
  },
  {
   "cell_type": "code",
   "execution_count": 14,
   "id": "95432403",
   "metadata": {},
   "outputs": [
    {
     "data": {
      "text/plain": [
       "(139, 4096)"
      ]
     },
     "execution_count": 14,
     "metadata": {},
     "output_type": "execute_result"
    }
   ],
   "source": [
    "X=np.array(X).reshape(len(X),4096).astype(float)\n",
    "X.shape"
   ]
  },
  {
   "cell_type": "code",
   "execution_count": 15,
   "id": "99b799df",
   "metadata": {},
   "outputs": [],
   "source": [
    "from sklearn.linear_model import LogisticRegression"
   ]
  },
  {
   "cell_type": "code",
   "execution_count": 16,
   "id": "d0abdc10",
   "metadata": {},
   "outputs": [
    {
     "name": "stderr",
     "output_type": "stream",
     "text": [
      "C:\\Users\\sanjay\\AppData\\Roaming\\Python\\Python39\\site-packages\\sklearn\\linear_model\\_logistic.py:444: ConvergenceWarning: lbfgs failed to converge (status=1):\n",
      "STOP: TOTAL NO. of ITERATIONS REACHED LIMIT.\n",
      "\n",
      "Increase the number of iterations (max_iter) or scale the data as shown in:\n",
      "    https://scikit-learn.org/stable/modules/preprocessing.html\n",
      "Please also refer to the documentation for alternative solver options:\n",
      "    https://scikit-learn.org/stable/modules/linear_model.html#logistic-regression\n",
      "  n_iter_i = _check_optimize_result(\n"
     ]
    },
    {
     "data": {
      "text/plain": [
       "0.8"
      ]
     },
     "execution_count": 16,
     "metadata": {},
     "output_type": "execute_result"
    }
   ],
   "source": [
    "X_train,X_test,y_train,y_test=train_test_split(X,y,random_state=3)\n",
    "\n",
    "pipe=Pipeline([('scaler',StandardScaler()),('svc',LogisticRegression())])\n",
    "pipe.fit(X_train,y_train)\n",
    "pipe.score(X_test,y_test)"
   ]
  },
  {
   "cell_type": "code",
   "execution_count": 17,
   "id": "5c3464cf",
   "metadata": {},
   "outputs": [
    {
     "name": "stdout",
     "output_type": "stream",
     "text": [
      "              precision    recall  f1-score   support\n",
      "\n",
      "           1       0.80      0.50      0.62         8\n",
      "           2       1.00      1.00      1.00         7\n",
      "           3       0.60      0.75      0.67         4\n",
      "           4       0.67      0.80      0.73         5\n",
      "           5       0.83      0.91      0.87        11\n",
      "\n",
      "    accuracy                           0.80        35\n",
      "   macro avg       0.78      0.79      0.78        35\n",
      "weighted avg       0.81      0.80      0.79        35\n",
      "\n"
     ]
    }
   ],
   "source": [
    "print(classification_report(y_test,pipe.predict(X_test)))"
   ]
  },
  {
   "cell_type": "code",
   "execution_count": 18,
   "id": "736e13e9",
   "metadata": {},
   "outputs": [
    {
     "data": {
      "text/plain": [
       "35"
      ]
     },
     "execution_count": 18,
     "metadata": {},
     "output_type": "execute_result"
    }
   ],
   "source": [
    "len(X_test)"
   ]
  },
  {
   "cell_type": "code",
   "execution_count": 19,
   "id": "37f94c14",
   "metadata": {},
   "outputs": [],
   "source": [
    "from sklearn import svm\n",
    "from sklearn.ensemble import RandomForestClassifier\n",
    "from sklearn.linear_model import LogisticRegression\n",
    "from sklearn.pipeline import make_pipeline\n",
    "from sklearn.model_selection import GridSearchCV"
   ]
  },
  {
   "cell_type": "code",
   "execution_count": 20,
   "id": "8e9847e6",
   "metadata": {},
   "outputs": [],
   "source": [
    "model_params = {\n",
    "    'svm': {\n",
    "        'model': svm.SVC(gamma='auto',probability=True),\n",
    "        'params' : {\n",
    "            'svc__C': [1,10,100,1000],\n",
    "            'svc__kernel': ['rbf','linear']\n",
    "        }  \n",
    "    },\n",
    "    'random_forest': {\n",
    "        'model': RandomForestClassifier(),\n",
    "        'params' : {\n",
    "            'randomforestclassifier__n_estimators': [1,5,10]\n",
    "        }\n",
    "    },\n",
    "    'logistic_regression' : {\n",
    "        'model': LogisticRegression(solver='liblinear',multi_class='auto'),\n",
    "        'params': {\n",
    "            'logisticregression__C': [1,5,10]\n",
    "        }\n",
    "    }\n",
    "}"
   ]
  },
  {
   "cell_type": "code",
   "execution_count": 21,
   "id": "ce1496bf",
   "metadata": {},
   "outputs": [
    {
     "data": {
      "text/html": [
       "<div>\n",
       "<style scoped>\n",
       "    .dataframe tbody tr th:only-of-type {\n",
       "        vertical-align: middle;\n",
       "    }\n",
       "\n",
       "    .dataframe tbody tr th {\n",
       "        vertical-align: top;\n",
       "    }\n",
       "\n",
       "    .dataframe thead th {\n",
       "        text-align: right;\n",
       "    }\n",
       "</style>\n",
       "<table border=\"1\" class=\"dataframe\">\n",
       "  <thead>\n",
       "    <tr style=\"text-align: right;\">\n",
       "      <th></th>\n",
       "      <th>model</th>\n",
       "      <th>best_score</th>\n",
       "      <th>best_params</th>\n",
       "    </tr>\n",
       "  </thead>\n",
       "  <tbody>\n",
       "    <tr>\n",
       "      <th>0</th>\n",
       "      <td>svm</td>\n",
       "      <td>0.701429</td>\n",
       "      <td>{'svc__C': 1, 'svc__kernel': 'linear'}</td>\n",
       "    </tr>\n",
       "    <tr>\n",
       "      <th>1</th>\n",
       "      <td>random_forest</td>\n",
       "      <td>0.623810</td>\n",
       "      <td>{'randomforestclassifier__n_estimators': 10}</td>\n",
       "    </tr>\n",
       "    <tr>\n",
       "      <th>2</th>\n",
       "      <td>logistic_regression</td>\n",
       "      <td>0.740476</td>\n",
       "      <td>{'logisticregression__C': 1}</td>\n",
       "    </tr>\n",
       "  </tbody>\n",
       "</table>\n",
       "</div>"
      ],
      "text/plain": [
       "                 model  best_score  \\\n",
       "0                  svm    0.701429   \n",
       "1        random_forest    0.623810   \n",
       "2  logistic_regression    0.740476   \n",
       "\n",
       "                                    best_params  \n",
       "0        {'svc__C': 1, 'svc__kernel': 'linear'}  \n",
       "1  {'randomforestclassifier__n_estimators': 10}  \n",
       "2                  {'logisticregression__C': 1}  "
      ]
     },
     "execution_count": 21,
     "metadata": {},
     "output_type": "execute_result"
    }
   ],
   "source": [
    "scores=[]\n",
    "best_estimator={}\n",
    "import pandas as pd\n",
    "for algo,np in model_params.items():\n",
    "    pipe=make_pipeline(StandardScaler(),np['model'])\n",
    "    clf=GridSearchCV(pipe,np['params'],cv=5,return_train_score=True)\n",
    "    clf.fit(X_train,y_train)\n",
    "    scores.append({\n",
    "        'model': algo,\n",
    "        'best_score': clf.best_score_,\n",
    "        'best_params': clf.best_params_\n",
    "    })\n",
    "    best_estimator[algo] = clf.best_estimator_\n",
    "    \n",
    "df = pd.DataFrame(scores,columns=['model','best_score','best_params'])\n",
    "df\n"
   ]
  },
  {
   "cell_type": "code",
   "execution_count": 22,
   "id": "401150c6",
   "metadata": {},
   "outputs": [
    {
     "data": {
      "text/plain": [
       "0.8285714285714286"
      ]
     },
     "execution_count": 22,
     "metadata": {},
     "output_type": "execute_result"
    }
   ],
   "source": [
    "best_estimator['svm'].score(X_test,y_test)"
   ]
  },
  {
   "cell_type": "code",
   "execution_count": 23,
   "id": "ad58b718",
   "metadata": {},
   "outputs": [
    {
     "data": {
      "text/plain": [
       "0.8285714285714286"
      ]
     },
     "execution_count": 23,
     "metadata": {},
     "output_type": "execute_result"
    }
   ],
   "source": [
    "best_estimator['logistic_regression'].score(X_test,y_test)"
   ]
  },
  {
   "cell_type": "code",
   "execution_count": 24,
   "id": "e723d442",
   "metadata": {},
   "outputs": [],
   "source": [
    "best_clf = best_estimator['svm']"
   ]
  },
  {
   "cell_type": "code",
   "execution_count": 25,
   "id": "696c0d10",
   "metadata": {},
   "outputs": [
    {
     "data": {
      "text/plain": [
       "array([[ 5,  0,  1,  1,  1],\n",
       "       [ 0,  7,  0,  0,  0],\n",
       "       [ 1,  0,  3,  0,  0],\n",
       "       [ 1,  0,  0,  4,  0],\n",
       "       [ 1,  0,  0,  0, 10]], dtype=int64)"
      ]
     },
     "execution_count": 25,
     "metadata": {},
     "output_type": "execute_result"
    }
   ],
   "source": [
    "from sklearn.metrics import confusion_matrix\n",
    "cm = confusion_matrix(y_test, best_clf.predict(X_test))\n",
    "cm"
   ]
  },
  {
   "cell_type": "code",
   "execution_count": 26,
   "id": "4c2badde",
   "metadata": {},
   "outputs": [
    {
     "data": {
      "text/plain": [
       "Text(69.0, 0.5, 'Truth')"
      ]
     },
     "execution_count": 26,
     "metadata": {},
     "output_type": "execute_result"
    },
    {
     "data": {
      "image/png": "[encoded data removed]",
      "text/plain": [
       "<Figure size 720x504 with 2 Axes>"
      ]
     },
     "metadata": {
      "needs_background": "light"
     },
     "output_type": "display_data"
    }
   ],
   "source": [
    "import seaborn as sn\n",
    "plt.figure(figsize = (10,7))\n",
    "sn.heatmap(cm, annot=True)\n",
    "plt.xlabel('Predicted')\n",
    "plt.ylabel('Truth')"
   ]
  },
  {
   "cell_type": "code",
   "execution_count": 27,
   "id": "9d952a5a",
   "metadata": {},
   "outputs": [
    {
     "data": {
      "text/plain": [
       "{'cropped': 0,\n",
       " 'Elon Musk': 1,\n",
       " 'Lionel Messi': 2,\n",
       " 'Maria Sharpova': 3,\n",
       " 'Smrithi Madhana': 4,\n",
       " 'Virat Kohli': 5}"
      ]
     },
     "execution_count": 27,
     "metadata": {},
     "output_type": "execute_result"
    }
   ],
   "source": [
    "class_dict"
   ]
  },
  {
   "cell_type": "code",
   "execution_count": 28,
   "id": "e30e0155",
   "metadata": {},
   "outputs": [
    {
     "data": {
      "text/plain": [
       "['Saved_model.pkl']"
      ]
     },
     "execution_count": 28,
     "metadata": {},
     "output_type": "execute_result"
    }
   ],
   "source": [
    "import joblib\n",
    "joblib.dump(best_clf,'Saved_model.pkl')"
   ]
  },
  {
   "cell_type": "code",
   "execution_count": 29,
   "id": "ef4832e2",
   "metadata": {},
   "outputs": [],
   "source": [
    "import json \n",
    "with open(\"class_dictationary.json\",\"w\") as f:\n",
    "    f.write(json.dumps(class_dict))"
   ]
  },
  {
   "cell_type": "code",
   "execution_count": null,
   "id": "95fe0f8b",
   "metadata": {},
   "outputs": [],
   "source": []
  },
  {
   "cell_type": "code",
   "execution_count": null,
   "id": "3ead5f4e",
   "metadata": {},
   "outputs": [],
   "source": []
  },
  {
   "cell_type": "code",
   "execution_count": null,
   "id": "f7680579",
   "metadata": {},
   "outputs": [],
   "source": []
  }
 ],
 "metadata": {
  "kernelspec": {
   "display_name": "Python 3 (ipykernel)",
   "language": "python",
   "name": "python3"
  },
  "language_info": {
   "codemirror_mode": {
    "name": "ipython",
    "version": 3
   },
   "file_extension": ".py",
   "mimetype": "text/x-python",
   "name": "python",
   "nbconvert_exporter": "python",
   "pygments_lexer": "ipython3",
   "version": "3.9.7"
  }
 },
 "nbformat": 4,
 "nbformat_minor": 5
}
